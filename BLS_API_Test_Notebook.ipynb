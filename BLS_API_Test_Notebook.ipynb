{
 "cells": [
  {
   "cell_type": "markdown",
   "metadata": {},
   "source": [
    "# BLS Data API - Test Notebook\n",
    "\n",
    "This notebook demonstrates how to access Bureau of Labor Statistics (BLS) Consumer Price Index data via the FastAPI web service.\n",
    "\n",
    "## 🚀 Quick Start\n",
    "\n",
    "1. **Server Setup**: Make sure the BLS API server is running:\n",
    "   ```bash\n",
    "   python api.py\n",
    "   ```\n",
    "\n",
    "2. **Client Setup**: Copy `bls_client.py` to your project directory\n",
    "\n",
    "3. **Update API URL**: Change the `API_URL` variable below to match your server\n",
    "\n",
    "## 📋 Requirements\n",
    "- requests\n",
    "- pandas\n",
    "- matplotlib\n",
    "- seaborn (optional)"
   ]
  },
  {
   "cell_type": "code",
   "execution_count": 1,
   "metadata": {
    "ExecuteTime": {
     "end_time": "2025-07-24T18:14:27.538748Z",
     "start_time": "2025-07-24T18:14:27.537466Z"
    }
   },
   "outputs": [],
   "source": [
    "# Install required packages (run once)\n",
    "# !pip install requests pandas matplotlib seaborn"
   ]
  },
  {
   "cell_type": "code",
   "execution_count": 2,
   "metadata": {
    "ExecuteTime": {
     "end_time": "2025-07-24T18:14:27.590288Z",
     "start_time": "2025-07-24T18:14:27.558280Z"
    }
   },
   "outputs": [
    {
     "name": "stdout",
     "output_type": "stream",
     "text": [
      "📊 Libraries imported successfully!\n"
     ]
    }
   ],
   "source": [
    "# Import libraries\n",
    "import requests\n",
    "import pandas as pd\n",
    "from datetime import datetime\n",
    "import warnings\n",
    "warnings.filterwarnings('ignore')\n",
    "\n",
    "print(\"Libraries imported successfully!\")"
   ]
  },
  {
   "cell_type": "code",
   "execution_count": 3,
   "metadata": {
    "ExecuteTime": {
     "end_time": "2025-07-24T18:14:30.328788Z",
     "start_time": "2025-07-24T18:14:30.326026Z"
    }
   },
   "outputs": [
    {
     "name": "stdout",
     "output_type": "stream",
     "text": [
      "🌐 API URL: http://localhost:8000\n",
      "📅 Test Date: 2025-06\n",
      "🕒 Current Time: 2025-07-24 14:14:45\n"
     ]
    }
   ],
   "source": [
    "# UPDATE THIS URL TO MATCH YOUR SERVER\n",
    "API_URL = \"http://localhost:8000\"  # Change to your server's IP if needed\n",
    "# API_URL = \"http://192.168.1.100:8000\"  # Example for network access\n",
    "\n",
    "print(f\"API URL: {API_URL}\")\n",
    "print(f\"Test Date: 2025-06\")\n",
    "print(f\"Current Time: {datetime.now().strftime('%Y-%m-%d %H:%M:%S')}\")"
   ]
  },
  {
   "cell_type": "markdown",
   "metadata": {},
   "source": [
    "## Method 1: Using the BLS Client Module (Recommended)"
   ]
  },
  {
   "cell_type": "code",
   "execution_count": 4,
   "metadata": {},
   "outputs": [
    {
     "name": "stdout",
     "output_type": "stream",
     "text": [
      "✅ BLS Client imported successfully\n"
     ]
    }
   ],
   "source": [
    "# Import the BLS client (make sure bls_client.py is in your project directory)\n",
    "try:\n",
    "    from bls_client import BLSClient\n",
    "    print(\"BLS Client imported successfully\")\n",
    "except ImportError as e:\n",
    "    print(f\"Could not import BLS Client: {e}\")\n",
    "    print(\"Make sure 'bls_client.py' is in your project directory\")\n",
    "    # Alternative: define a simple client inline\n",
    "    class BLSClient:\n",
    "        def __init__(self, api_url):\n",
    "            self.api_url = api_url.rstrip('/')\n",
    "        \n",
    "        def get_data(self, categories, date):\n",
    "            response = requests.post(f\"{self.api_url}/data\", json={\n",
    "                \"categories\": categories,\n",
    "                \"date\": date\n",
    "            })\n",
    "            if response.status_code == 200:\n",
    "                result = response.json()\n",
    "                if result.get(\"success\"):\n",
    "                    return pd.DataFrame(result[\"data\"])\n",
    "            return None\n",
    "    print(\"Using inline BLS Client\")"
   ]
  },
  {
   "cell_type": "code",
   "execution_count": 5,
   "metadata": {},
   "outputs": [
    {
     "name": "stdout",
     "output_type": "stream",
     "text": [
      "✅ Connected to BLS API at http://localhost:8000\n",
      "   Data available: True\n"
     ]
    }
   ],
   "source": [
    "# Create BLS API client\n",
    "client = BLSClient(API_URL)\n",
    "\n",
    "# The client will automatically test the connection when created"
   ]
  },
  {
   "cell_type": "code",
   "execution_count": 6,
   "metadata": {},
   "outputs": [
    {
     "name": "stdout",
     "output_type": "stream",
     "text": [
      "🏥 API Health Status:\n",
      "   Status: healthy\n",
      "   Data Available: True\n",
      "   Latest File: cpi-u-202506.xlsx\n",
      "   Categories Count: 99\n"
     ]
    }
   ],
   "source": [
    "# Check API health\n",
    "health_response = requests.get(f\"{API_URL}/health\")\n",
    "\n",
    "if health_response.status_code == 200:\n",
    "    health = health_response.json()\n",
    "    print(\"API Health Status:\")\n",
    "    print(f\"   Status: {health.get('status', 'unknown')}\")\n",
    "    print(f\"   Data Available: {health.get('data_available', False)}\")\n",
    "    print(f\"   Latest File: {health.get('latest_file', 'None')}\")\n",
    "    print(f\"   Categories Count: {health.get('categories_count', 0)}\")\n",
    "else:\n",
    "    print(f\"API Health Check Failed: {health_response.status_code}\")"
   ]
  },
  {
   "cell_type": "code",
   "execution_count": 7,
   "metadata": {},
   "outputs": [
    {
     "name": "stdout",
     "output_type": "stream",
     "text": [
      "📋 Retrieved 14 available categories\n",
      "\n",
      "📋 Available Categories (first 14):\n",
      "    1. All items\n",
      "    2. Food\n",
      "    3. Food at home\n",
      "    4. Cereals and bakery products\n",
      "    5. Cereals and cereal products\n",
      "    6. Flour and prepared flour mixes\n",
      "    7. Breakfast cereal(4)\n",
      "    8. Rice, pasta, cornmeal\n",
      "    9. Rice(4)(5)(6)\n",
      "   10. Bakery products(4)\n",
      "   11. Bread(4)(5)\n",
      "   12. White bread(4)(6)\n",
      "   13. Bread other than white(4)(6)\n",
      "   14. Fresh biscuits, rolls, muffins(5)\n"
     ]
    }
   ],
   "source": [
    "# Get available categories\n",
    "try:\n",
    "    categories = client.get_categories(15)\n",
    "    print(f\"\\nAvailable Categories (first {len(categories)}):\")\n",
    "    for i, cat in enumerate(categories, 1):\n",
    "        print(f\"   {i:2d}. {cat}\")\n",
    "except:\n",
    "    print(\"Could not retrieve categories\")"
   ]
  },
  {
   "cell_type": "markdown",
   "metadata": {},
   "source": [
    "## 📊 Basic Data Loading"
   ]
  },
  {
   "cell_type": "code",
   "execution_count": 8,
   "metadata": {},
   "outputs": [
    {
     "name": "stdout",
     "output_type": "stream",
     "text": [
      "🎯 Loading data for 6 categories:\n",
      "   1. All items\n",
      "   2. Food\n",
      "   3. Energy\n",
      "   4. Shelter\n",
      "   5. Transportation\n",
      "   6. Medical care\n",
      "\n",
      "📅 Target Date: 2025-06\n"
     ]
    }
   ],
   "source": [
    "# Define categories for analysis\n",
    "analysis_categories = [\n",
    "    \"All items\",\n",
    "    \"Food\",\n",
    "    \"Energy\",\n",
    "    \"Shelter\",\n",
    "    \"Transportation\",\n",
    "    \"Medical care\"\n",
    "]\n",
    "\n",
    "target_date = \"2025-06\"\n",
    "\n",
    "print(f\"Loading data for {len(analysis_categories)} categories:\")\n",
    "for i, cat in enumerate(analysis_categories, 1):\n",
    "    print(f\"   {i}. {cat}\")\n",
    "print(f\"\\nTarget Date: {target_date}\")"
   ]
  },
  {
   "cell_type": "code",
   "execution_count": 9,
   "metadata": {},
   "outputs": [
    {
     "name": "stdout",
     "output_type": "stream",
     "text": [
      "✅ Successfully loaded data for 6 categories\n",
      "\n",
      "✅ Successfully loaded data for 6 categories\n",
      "\n",
      "📋 Data Preview:\n"
     ]
    },
    {
     "data": {
      "text/html": [
       "<div>\n",
       "<style scoped>\n",
       "    .dataframe tbody tr th:only-of-type {\n",
       "        vertical-align: middle;\n",
       "    }\n",
       "\n",
       "    .dataframe tbody tr th {\n",
       "        vertical-align: top;\n",
       "    }\n",
       "\n",
       "    .dataframe thead th {\n",
       "        text-align: right;\n",
       "    }\n",
       "</style>\n",
       "<table border=\"1\" class=\"dataframe\">\n",
       "  <thead>\n",
       "    <tr style=\"text-align: right;\">\n",
       "      <th></th>\n",
       "      <th>category</th>\n",
       "      <th>nsa_previous_month</th>\n",
       "      <th>nsa_current_month</th>\n",
       "      <th>current_month</th>\n",
       "      <th>previous_month</th>\n",
       "    </tr>\n",
       "  </thead>\n",
       "  <tbody>\n",
       "    <tr>\n",
       "      <th>0</th>\n",
       "      <td>All items</td>\n",
       "      <td>321.465</td>\n",
       "      <td>322.561</td>\n",
       "      <td>2025-06</td>\n",
       "      <td>2025-05</td>\n",
       "    </tr>\n",
       "    <tr>\n",
       "      <th>1</th>\n",
       "      <td>Food</td>\n",
       "      <td>338.598</td>\n",
       "      <td>339.498</td>\n",
       "      <td>2025-06</td>\n",
       "      <td>2025-05</td>\n",
       "    </tr>\n",
       "    <tr>\n",
       "      <th>2</th>\n",
       "      <td>Energy</td>\n",
       "      <td>280.097</td>\n",
       "      <td>284.307</td>\n",
       "      <td>2025-06</td>\n",
       "      <td>2025-05</td>\n",
       "    </tr>\n",
       "    <tr>\n",
       "      <th>3</th>\n",
       "      <td>Shelter</td>\n",
       "      <td>414.689</td>\n",
       "      <td>415.455</td>\n",
       "      <td>2025-06</td>\n",
       "      <td>2025-05</td>\n",
       "    </tr>\n",
       "    <tr>\n",
       "      <th>4</th>\n",
       "      <td>Transportation</td>\n",
       "      <td>272.946</td>\n",
       "      <td>273.391</td>\n",
       "      <td>2025-06</td>\n",
       "      <td>2025-05</td>\n",
       "    </tr>\n",
       "  </tbody>\n",
       "</table>\n",
       "</div>"
      ],
      "text/plain": [
       "         category  nsa_previous_month  nsa_current_month current_month  \\\n",
       "0       All items             321.465            322.561       2025-06   \n",
       "1            Food             338.598            339.498       2025-06   \n",
       "2          Energy             280.097            284.307       2025-06   \n",
       "3         Shelter             414.689            415.455       2025-06   \n",
       "4  Transportation             272.946            273.391       2025-06   \n",
       "\n",
       "  previous_month  \n",
       "0        2025-05  \n",
       "1        2025-05  \n",
       "2        2025-05  \n",
       "3        2025-05  \n",
       "4        2025-05  "
      ]
     },
     "metadata": {},
     "output_type": "display_data"
    }
   ],
   "source": [
    "# Load BLS data using the client\n",
    "df = client.get_data(analysis_categories, target_date)\n",
    "\n",
    "if df is not None:\n",
    "    print(f\"\\nSuccessfully loaded data for {len(df)} categories\")\n",
    "    print(f\"\\nData Preview:\")\n",
    "    display(df[['category', 'nsa_previous_month', 'nsa_current_month', 'current_month', 'previous_month']].head())\n",
    "else:\n",
    "    print(\"Failed to load data\")"
   ]
  }
 ],
 "metadata": {
  "kernelspec": {
   "display_name": "Python 3 (ipykernel)",
   "language": "python",
   "name": "python3"
  },
  "language_info": {
   "codemirror_mode": {
    "name": "ipython",
    "version": 3
   },
   "file_extension": ".py",
   "mimetype": "text/x-python",
   "name": "python",
   "nbconvert_exporter": "python",
   "pygments_lexer": "ipython3",
   "version": "3.13.5"
  }
 },
 "nbformat": 4,
 "nbformat_minor": 4
}
