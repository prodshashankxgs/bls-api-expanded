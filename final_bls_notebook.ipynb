{
  "cells": [
    {
      "cell_type": "raw",
      "metadata": {
        "vscode": {
          "languageId": "raw"
        }
      },
      "source": [
        "# BLS Data Analysis - Production Ready\n",
        "\n",
        "This notebook demonstrates the final BLS API client that returns data in your exact desired format.\n",
        "\n",
        "## Setup:\n",
        "1. Make sure the BLS API server is running: `python api.py` in the main project\n",
        "2. Copy `bls_client_final.py` to this project folder  \n",
        "3. Run the cells below\n",
        "\n",
        "## Requirements:\n",
        "```bash\n",
        "pip install requests pandas\n",
        "```\n"
      ]
    },
    {
      "cell_type": "code",
      "execution_count": null,
      "metadata": {},
      "outputs": [],
      "source": [
        "# Import the final BLS client\n",
        "from bls_client_final import load_data, get_all_tickers\n",
        "import pandas as pd\n",
        "\n",
        "print(\"📚 BLS Client imported successfully!\")\n"
      ]
    },
    {
      "cell_type": "code",
      "execution_count": null,
      "metadata": {},
      "outputs": [],
      "source": [
        "# Configuration\n",
        "API_URL = \"http://localhost:8000\"  # Change to your server's IP if needed\n",
        "TARGET_DATE = \"2025-06\"\n",
        "\n",
        "print(f\"🌐 API URL: {API_URL}\")\n",
        "print(f\"📅 Target Date: {TARGET_DATE}\")\n"
      ]
    },
    {
      "cell_type": "code",
      "execution_count": null,
      "metadata": {},
      "outputs": [],
      "source": [
        "# Get all available tickers\n",
        "all_tickers = get_all_tickers(API_URL)\n",
        "\n",
        "print(f\"📊 Found {len(all_tickers)} total tickers\")\n",
        "print(\"\\nFirst 10 tickers:\")\n",
        "for i, ticker in enumerate(all_tickers[:10], 1):\n",
        "    print(f\"  {i:2d}. {ticker}\")\n",
        "\n",
        "if len(all_tickers) > 10:\n",
        "    print(f\"  ... and {len(all_tickers) - 10} more\")\n"
      ]
    },
    {
      "cell_type": "code",
      "execution_count": null,
      "metadata": {},
      "outputs": [],
      "source": [
        "# Load data for ALL tickers in your desired format\n",
        "print(f\"📡 Loading data for ALL {len(all_tickers)} tickers...\")\n",
        "df = load_data(all_tickers, TARGET_DATE, API_URL)\n",
        "\n",
        "if df is not None:\n",
        "    print(f\"\\n✅ Successfully created DataFrame!\")\n",
        "    print(f\"   Shape: {df.shape} (rows, columns)\")\n",
        "    print(f\"   Columns: {list(df.columns)}\")\n",
        "    print(f\"\\n📊 Your desired format: category | date | index | adjustment\")\n",
        "else:\n",
        "    print(\"\\n❌ Failed to load data. Make sure the API server is running!\")\n"
      ]
    },
    {
      "cell_type": "code",
      "execution_count": null,
      "metadata": {},
      "outputs": [],
      "source": [
        "# Print the complete DataFrame in your desired format\n",
        "if df is not None:\n",
        "    print(f\"📋 Complete BLS Data for {TARGET_DATE} - Your Desired Format:\")\n",
        "    print(\"=\" * 80)\n",
        "    print(df)\n",
        "    \n",
        "    print(f\"\\n📊 Data Summary:\")\n",
        "    print(f\"   Total rows: {len(df)}\")\n",
        "    print(f\"   Unique categories: {df['category'].nunique()}\")\n",
        "    print(f\"   Date range: {df['date'].min()} to {df['date'].max()}\")\n",
        "    print(f\"   Adjustment types: {', '.join(df['adjustment'].unique())}\")\n",
        "else:\n",
        "    print(\"⚠️ No data to display\")\n"
      ]
    }
  ],
  "metadata": {
    "language_info": {
      "name": "python"
    }
  },
  "nbformat": 4,
  "nbformat_minor": 2
}
